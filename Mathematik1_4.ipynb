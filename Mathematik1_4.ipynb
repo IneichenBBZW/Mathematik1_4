{
 "cells": [
  {
   "cell_type": "markdown",
   "id": "ccda1525",
   "metadata": {},
   "source": [
    "# Mathematik 1.4 - Ganze Zahlen"
   ]
  },
  {
   "cell_type": "markdown",
   "id": "def807e4",
   "metadata": {},
   "source": [
    "## Aufgabe 11\n",
    "Schreiben Sie eine Python-Funktion `convert_dec_to_bin`, die als Argumente natürliche Zahlen entgegennimmt und daraus deren binäre Darstellung als Liste von Zifferen ausgibt. Der Rückgabewert von `convert_dec_to_bin(13)` soll `[1,1,0,1]` sein.\\\n",
    "Hinweis: Für den Rest zweier Zahlen benutzt man in Python den Operator `%`."
   ]
  },
  {
   "cell_type": "code",
   "execution_count": 4,
   "id": "abefc36f",
   "metadata": {},
   "outputs": [],
   "source": [
    "def convert_dec_to_bin(n):\n",
    "    # Hier Code ergänzen, pass durch Ihre Lösung ersetzen\n",
    "    if n == 0:\n",
    "        return [0]\n",
    "    result = []\n",
    "    while n > 0:\n",
    "        result.append(n % 2)\n",
    "        n = n // 2"
   ]
  },
  {
   "cell_type": "code",
   "execution_count": 5,
   "id": "958432a9",
   "metadata": {},
   "outputs": [],
   "source": [
    "convert_dec_to_bin(13) # [1, 1, 0, 1]"
   ]
  },
  {
   "cell_type": "markdown",
   "id": "793fd035",
   "metadata": {},
   "source": [
    "## Aufgabe 12\n",
    "Arbeitet Ihre Funktion `convert_dec_to_bin` auch korrekt, wenn das Eingabe-Argument 0 ist? Falls nicht, korrigieren Sie die Funktion."
   ]
  },
  {
   "cell_type": "code",
   "execution_count": 6,
   "id": "2a24e089",
   "metadata": {},
   "outputs": [
    {
     "data": {
      "text/plain": [
       "[0]"
      ]
     },
     "execution_count": 6,
     "metadata": {},
     "output_type": "execute_result"
    }
   ],
   "source": [
    "convert_dec_to_bin(0) # [0]"
   ]
  },
  {
   "cell_type": "markdown",
   "id": "f20e14c5",
   "metadata": {},
   "source": [
    "## Aufgabe 13\n",
    "Nehmen wir an, Python hätte sowas wie `%` nicht.\\\n",
    "Programmieren Sie die Aufgabe 11 ohne den Operator `%` zu verwenden!"
   ]
  },
  {
   "cell_type": "code",
   "execution_count": 9,
   "id": "5268c459",
   "metadata": {},
   "outputs": [],
   "source": [
    "def convert_dec_to_bin2(n):\n",
    "    # Hier Code ergänzen, pass durch Ihre Lösung ersetzen\n",
    "    if n == 0:\n",
    "        return [0]\n",
    "    result = []\n",
    "    while n > 0:\n",
    "        result.append(n - (n // 2) * 2)\n",
    "        n = n // 2\n",
    "    return list(reversed(result))"
   ]
  },
  {
   "cell_type": "code",
   "execution_count": 10,
   "id": "144ddb04",
   "metadata": {},
   "outputs": [
    {
     "data": {
      "text/plain": [
       "[1, 0, 1, 1]"
      ]
     },
     "execution_count": 10,
     "metadata": {},
     "output_type": "execute_result"
    }
   ],
   "source": [
    "convert_dec_to_bin2(13) # [1, 1, 0, 1]"
   ]
  },
  {
   "cell_type": "markdown",
   "id": "6fdd636c",
   "metadata": {},
   "source": [
    "## Aufgabe 14\n",
    "Nachfolgend sehen Sie im Code die Funktion `convert_bin_to_dec`, wie Sie auf Seite 10 im Skript Mathematik 1.4 dargestellt ist. Diese Funktion wurde gemäss Algorithmus auf Seite 5 (Skript Mathematik 1.4) entwickelt. Nach diesem Algorithmus verdoppeln wir in jedem Schritt bis auf den Letzten. Die Funktion `convert_bin_to_dec` macht die letzte Verdoppelung durch Division wieder rückgängig.\\\n",
    "Programmieren Sie die Funktion so, dass wir auf **das Dividieren am Ende verzichten können**."
   ]
  },
  {
   "cell_type": "code",
   "execution_count": 7,
   "id": "934db5f4",
   "metadata": {},
   "outputs": [],
   "source": [
    "def convert_bin_to_dec(bin_liste):\n",
    "    bin_liste = list(reversed(bin_liste))\n",
    "    result = 0\n",
    "    while len(bin_liste) > 0:\n",
    "        result += bin_liste.pop()\n",
    "        result *= 2\n",
    "    return result // 2"
   ]
  },
  {
   "cell_type": "code",
   "execution_count": 8,
   "id": "467a6bfb",
   "metadata": {},
   "outputs": [],
   "source": [
    "def convert_bin_to_dec2(bin_liste):\n",
    "    # Hier Code ergänzen, pass durch Ihre Lösung ersetzen\n",
    "    bin_liste = list(reversed(bin_liste))\n",
    "    result = 0\n",
    "    while len(bin_liste) > 0:\n",
    "        result *= 2\n",
    "        result += bin_liste.pop()\n",
    "    return result"
   ]
  },
  {
   "cell_type": "code",
   "execution_count": 9,
   "id": "7058bb8e",
   "metadata": {},
   "outputs": [
    {
     "name": "stdout",
     "output_type": "stream",
     "text": [
      "13\n",
      "13\n"
     ]
    }
   ],
   "source": [
    "print(convert_bin_to_dec([1, 1, 0, 1])) # 13\n",
    "print(convert_bin_to_dec2([1, 1, 0, 1])) # 13"
   ]
  },
  {
   "cell_type": "markdown",
   "id": "284a9315",
   "metadata": {},
   "source": [
    "## Zusatzaufgabe 15\n",
    "Drei dreistellige Zahlen werden addiert und das Ergebnis ist 2'555.\n",
    "<div style=\"font-family: monospace; line-height: 1.5;\">\n",
    "    &nbsp;&nbsp;\u0002 \u0002 \u0002 <br>\n",
    "    &nbsp;&nbsp;\u0002 \u0002 \u0002 <br>\n",
    "    &nbsp;&nbsp;\u0002 \u0002 \u0002 <br>\n",
    "    <div style=\"border-bottom: 2px solid black; width: 100px; display: inline-block;\"></div>\n",
    "    <div style=\"margin-top: 10px;\">2 5 5 5</div>\n",
    "</div>\n",
    "Jedes Kästchen steht für eine Dezimalziffer. Ausserdem sind alle neun Ziffern verschieden. Da es insgesamt zehn Dezimalziffern gibt, wird eine nicht verwendet. Welche ist es?\n",
    "\n",
    "Hinweis: Sie dürden das Problem auch mit Python lösen!"
   ]
  },
  {
   "cell_type": "markdown",
   "id": "3c40ae79",
   "metadata": {},
   "source": [
    "# "
   ]
  },
  {
   "cell_type": "code",
   "execution_count": 6,
   "id": "82f85a12",
   "metadata": {},
   "outputs": [],
   "source": [
    "# Schreiben Sie hier Ihren Code!\n"
   ]
  },
  {
   "cell_type": "markdown",
   "id": "bd1b65d6",
   "metadata": {},
   "source": [
    "## Zusatzaufgabe 16\n",
    "Lösen Sie das nachfolgende binäre Sidoku.\n",
    "\n",
    "<table style=\"border-collapse: collapse; margin-left: 0;\">\n",
    "    <tr>\n",
    "        <td style=\"width: 5mm; height: 5mm; border: 1px solid blue; text-align: center; font-size: 4mm; font-family: Arial, sans-serif;\"></td>\n",
    "        <td style=\"width: 5mm; height: 5mm; border: 1px solid blue; text-align: center; font-size: 4mm; font-family: Arial, sans-serif;\"></td>\n",
    "        <td style=\"width: 5mm; height: 5mm; border: 1px solid blue; text-align: center; font-size: 4mm; font-family: Arial, sans-serif;\"></td>\n",
    "        <td style=\"width: 5mm; height: 5mm; border: 1px solid blue; text-align: center; font-size: 4mm; font-family: Arial, sans-serif;\"></td>\n",
    "        <td style=\"width: 5mm; height: 5mm; border: 1px solid blue; text-align: center; font-size: 4mm; font-family: Arial, sans-serif;\"></td>\n",
    "        <td style=\"width: 5mm; height: 5mm; border: 1px solid blue; text-align: center; font-size: 4mm; font-family: Arial, sans-serif;\"></td>\n",
    "        <td style=\"width: 5mm; height: 5mm; border: 1px solid blue; text-align: center; font-size: 4mm; font-family: Arial, sans-serif;\"></td>\n",
    "        <td style=\"width: 5mm; height: 5mm; border: 1px solid blue; text-align: center; font-size: 4mm; font-family: Arial, sans-serif;\"></td>\n",
    "        <td style=\"width: 5mm; height: 5mm; border: 1px solid blue; text-align: center; font-size: 4mm; font-family: Arial, sans-serif;\"></td>\n",
    "        <td style=\"width: 5mm; height: 5mm; border: 1px solid blue; text-align: center; font-size: 4mm; font-family: Arial, sans-serif;\"></td>\n",
    "        <td style=\"width: 5mm; height: 5mm; border: 1px solid blue; text-align: center; font-size: 4mm; font-family: Arial, sans-serif;\"></td>\n",
    "        <td style=\"width: 5mm; height: 5mm; border: 1px solid blue; text-align: center; font-size: 4mm; font-family: Arial, sans-serif;\">0</td>\n",
    "    </tr>\n",
    "    <tr>\n",
    "        <td style=\"width: 5mm; height: 5mm; border: 1px solid blue; text-align: center; font-size: 4mm; font-family: Arial, sans-serif;\"></td>\n",
    "        <td style=\"width: 5mm; height: 5mm; border: 1px solid blue; text-align: center; font-size: 4mm; font-family: Arial, sans-serif;\">0</td>\n",
    "        <td style=\"width: 5mm; height: 5mm; border: 1px solid blue; text-align: center; font-size: 4mm; font-family: Arial, sans-serif;\">0</td>\n",
    "        <td style=\"width: 5mm; height: 5mm; border: 1px solid blue; text-align: center; font-size: 4mm; font-family: Arial, sans-serif;\"></td>\n",
    "        <td style=\"width: 5mm; height: 5mm; border: 1px solid blue; text-align: center; font-size: 4mm; font-family: Arial, sans-serif;\"></td>\n",
    "        <td style=\"width: 5mm; height: 5mm; border: 1px solid blue; text-align: center; font-size: 4mm; font-family: Arial, sans-serif;\"></td>\n",
    "        <td style=\"width: 5mm; height: 5mm; border: 1px solid blue; text-align: center; font-size: 4mm; font-family: Arial, sans-serif;\">0</td>\n",
    "        <td style=\"width: 5mm; height: 5mm; border: 1px solid blue; text-align: center; font-size: 4mm; font-family: Arial, sans-serif;\"></td>\n",
    "        <td style=\"width: 5mm; height: 5mm; border: 1px solid blue; text-align: center; font-size: 4mm; font-family: Arial, sans-serif;\"></td>\n",
    "        <td style=\"width: 5mm; height: 5mm; border: 1px solid blue; text-align: center; font-size: 4mm; font-family: Arial, sans-serif;\"></td>\n",
    "        <td style=\"width: 5mm; height: 5mm; border: 1px solid blue; text-align: center; font-size: 4mm; font-family: Arial, sans-serif;\"></td>\n",
    "        <td style=\"width: 5mm; height: 5mm; border: 1px solid blue; text-align: center; font-size: 4mm; font-family: Arial, sans-serif;\"></td>\n",
    "    </tr>\n",
    "    <tr>\n",
    "        <td style=\"width: 5mm; height: 5mm; border: 1px solid blue; text-align: center; font-size: 4mm; font-family: Arial, sans-serif;\"></td>\n",
    "        <td style=\"width: 5mm; height: 5mm; border: 1px solid blue; text-align: center; font-size: 4mm; font-family: Arial, sans-serif;\"></td>\n",
    "        <td style=\"width: 5mm; height: 5mm; border: 1px solid blue; text-align: center; font-size: 4mm; font-family: Arial, sans-serif;\"></td>\n",
    "        <td style=\"width: 5mm; height: 5mm; border: 1px solid blue; text-align: center; font-size: 4mm; font-family: Arial, sans-serif;\">0</td>\n",
    "        <td style=\"width: 5mm; height: 5mm; border: 1px solid blue; text-align: center; font-size: 4mm; font-family: Arial, sans-serif;\"></td>\n",
    "        <td style=\"width: 5mm; height: 5mm; border: 1px solid blue; text-align: center; font-size: 4mm; font-family: Arial, sans-serif;\"></td>\n",
    "        <td style=\"width: 5mm; height: 5mm; border: 1px solid blue; text-align: center; font-size: 4mm; font-family: Arial, sans-serif;\"></td>\n",
    "        <td style=\"width: 5mm; height: 5mm; border: 1px solid blue; text-align: center; font-size: 4mm; font-family: Arial, sans-serif;\">1</td>\n",
    "        <td style=\"width: 5mm; height: 5mm; border: 1px solid blue; text-align: center; font-size: 4mm; font-family: Arial, sans-serif;\"></td>\n",
    "        <td style=\"width: 5mm; height: 5mm; border: 1px solid blue; text-align: center; font-size: 4mm; font-family: Arial, sans-serif;\">1</td>\n",
    "        <td style=\"width: 5mm; height: 5mm; border: 1px solid blue; text-align: center; font-size: 4mm; font-family: Arial, sans-serif;\"></td>\n",
    "        <td style=\"width: 5mm; height: 5mm; border: 1px solid blue; text-align: center; font-size: 4mm; font-family: Arial, sans-serif;\"></td>\n",
    "    </tr>\n",
    "    <tr>\n",
    "        <td style=\"width: 5mm; height: 5mm; border: 1px solid blue; text-align: center; font-size: 4mm; font-family: Arial, sans-serif;\"></td>\n",
    "        <td style=\"width: 5mm; height: 5mm; border: 1px solid blue; text-align: center; font-size: 4mm; font-family: Arial, sans-serif;\"></td>\n",
    "        <td style=\"width: 5mm; height: 5mm; border: 1px solid blue; text-align: center; font-size: 4mm; font-family: Arial, sans-serif;\"></td>\n",
    "        <td style=\"width: 5mm; height: 5mm; border: 1px solid blue; text-align: center; font-size: 4mm; font-family: Arial, sans-serif;\"></td>\n",
    "        <td style=\"width: 5mm; height: 5mm; border: 1px solid blue; text-align: center; font-size: 4mm; font-family: Arial, sans-serif;\"></td>\n",
    "        <td style=\"width: 5mm; height: 5mm; border: 1px solid blue; text-align: center; font-size: 4mm; font-family: Arial, sans-serif;\"></td>\n",
    "        <td style=\"width: 5mm; height: 5mm; border: 1px solid blue; text-align: center; font-size: 4mm; font-family: Arial, sans-serif;\"></td>\n",
    "        <td style=\"width: 5mm; height: 5mm; border: 1px solid blue; text-align: center; font-size: 4mm; font-family: Arial, sans-serif;\"></td>\n",
    "        <td style=\"width: 5mm; height: 5mm; border: 1px solid blue; text-align: center; font-size: 4mm; font-family: Arial, sans-serif;\">0</td>\n",
    "        <td style=\"width: 5mm; height: 5mm; border: 1px solid blue; text-align: center; font-size: 4mm; font-family: Arial, sans-serif;\"></td>\n",
    "        <td style=\"width: 5mm; height: 5mm; border: 1px solid blue; text-align: center; font-size: 4mm; font-family: Arial, sans-serif;\"></td>\n",
    "        <td style=\"width: 5mm; height: 5mm; border: 1px solid blue; text-align: center; font-size: 4mm; font-family: Arial, sans-serif;\">1</td>\n",
    "    </tr>\n",
    "    <tr>\n",
    "        <td style=\"width: 5mm; height: 5mm; border: 1px solid blue; text-align: center; font-size: 4mm; font-family: Arial, sans-serif;\"></td>\n",
    "        <td style=\"width: 5mm; height: 5mm; border: 1px solid blue; text-align: center; font-size: 4mm; font-family: Arial, sans-serif;\"></td>\n",
    "        <td style=\"width: 5mm; height: 5mm; border: 1px solid blue; text-align: center; font-size: 4mm; font-family: Arial, sans-serif;\"></td>\n",
    "        <td style=\"width: 5mm; height: 5mm; border: 1px solid blue; text-align: center; font-size: 4mm; font-family: Arial, sans-serif;\"></td>\n",
    "        <td style=\"width: 5mm; height: 5mm; border: 1px solid blue; text-align: center; font-size: 4mm; font-family: Arial, sans-serif;\"></td>\n",
    "        <td style=\"width: 5mm; height: 5mm; border: 1px solid blue; text-align: center; font-size: 4mm; font-family: Arial, sans-serif;\">0</td>\n",
    "        <td style=\"width: 5mm; height: 5mm; border: 1px solid blue; text-align: center; font-size: 4mm; font-family: Arial, sans-serif;\"></td>\n",
    "        <td style=\"width: 5mm; height: 5mm; border: 1px solid blue; text-align: center; font-size: 4mm; font-family: Arial, sans-serif;\"></td>\n",
    "        <td style=\"width: 5mm; height: 5mm; border: 1px solid blue; text-align: center; font-size: 4mm; font-family: Arial, sans-serif;\"></td>\n",
    "        <td style=\"width: 5mm; height: 5mm; border: 1px solid blue; text-align: center; font-size: 4mm; font-family: Arial, sans-serif;\">0</td>\n",
    "        <td style=\"width: 5mm; height: 5mm; border: 1px solid blue; text-align: center; font-size: 4mm; font-family: Arial, sans-serif;\"></td>\n",
    "        <td style=\"width: 5mm; height: 5mm; border: 1px solid blue; text-align: center; font-size: 4mm; font-family: Arial, sans-serif;\"></td>\n",
    "    </tr>\n",
    "    <tr>\n",
    "        <td style=\"width: 5mm; height: 5mm; border: 1px solid blue; text-align: center; font-size: 4mm; font-family: Arial, sans-serif;\">0</td>\n",
    "        <td style=\"width: 5mm; height: 5mm; border: 1px solid blue; text-align: center; font-size: 4mm; font-family: Arial, sans-serif;\"></td>\n",
    "        <td style=\"width: 5mm; height: 5mm; border: 1px solid blue; text-align: center; font-size: 4mm; font-family: Arial, sans-serif;\"></td>\n",
    "        <td style=\"width: 5mm; height: 5mm; border: 1px solid blue; text-align: center; font-size: 4mm; font-family: Arial, sans-serif;\"></td>\n",
    "        <td style=\"width: 5mm; height: 5mm; border: 1px solid blue; text-align: center; font-size: 4mm; font-family: Arial, sans-serif;\">1</td>\n",
    "        <td style=\"width: 5mm; height: 5mm; border: 1px solid blue; text-align: center; font-size: 4mm; font-family: Arial, sans-serif;\"></td>\n",
    "        <td style=\"width: 5mm; height: 5mm; border: 1px solid blue; text-align: center; font-size: 4mm; font-family: Arial, sans-serif;\">1</td>\n",
    "        <td style=\"width: 5mm; height: 5mm; border: 1px solid blue; text-align: center; font-size: 4mm; font-family: Arial, sans-serif;\"></td>\n",
    "        <td style=\"width: 5mm; height: 5mm; border: 1px solid blue; text-align: center; font-size: 4mm; font-family: Arial, sans-serif;\"></td>\n",
    "        <td style=\"width: 5mm; height: 5mm; border: 1px solid blue; text-align: center; font-size: 4mm; font-family: Arial, sans-serif;\"></td>\n",
    "        <td style=\"width: 5mm; height: 5mm; border: 1px solid blue; text-align: center; font-size: 4mm; font-family: Arial, sans-serif;\"></td>\n",
    "        <td style=\"width: 5mm; height: 5mm; border: 1px solid blue; text-align: center; font-size: 4mm; font-family: Arial, sans-serif;\"></td>\n",
    "    </tr>\n",
    "    <tr>\n",
    "        <td style=\"width: 5mm; height: 5mm; border: 1px solid blue; text-align: center; font-size: 4mm; font-family: Arial, sans-serif;\">0</td>\n",
    "        <td style=\"width: 5mm; height: 5mm; border: 1px solid blue; text-align: center; font-size: 4mm; font-family: Arial, sans-serif;\"></td>\n",
    "        <td style=\"width: 5mm; height: 5mm; border: 1px solid blue; text-align: center; font-size: 4mm; font-family: Arial, sans-serif;\">0</td>\n",
    "        <td style=\"width: 5mm; height: 5mm; border: 1px solid blue; text-align: center; font-size: 4mm; font-family: Arial, sans-serif;\"></td>\n",
    "        <td style=\"width: 5mm; height: 5mm; border: 1px solid blue; text-align: center; font-size: 4mm; font-family: Arial, sans-serif;\">1</td>\n",
    "        <td style=\"width: 5mm; height: 5mm; border: 1px solid blue; text-align: center; font-size: 4mm; font-family: Arial, sans-serif;\"></td>\n",
    "        <td style=\"width: 5mm; height: 5mm; border: 1px solid blue; text-align: center; font-size: 4mm; font-family: Arial, sans-serif;\"></td>\n",
    "        <td style=\"width: 5mm; height: 5mm; border: 1px solid blue; text-align: center; font-size: 4mm; font-family: Arial, sans-serif;\"></td>\n",
    "        <td style=\"width: 5mm; height: 5mm; border: 1px solid blue; text-align: center; font-size: 4mm; font-family: Arial, sans-serif;\">0</td>\n",
    "        <td style=\"width: 5mm; height: 5mm; border: 1px solid blue; text-align: center; font-size: 4mm; font-family: Arial, sans-serif;\"></td>\n",
    "        <td style=\"width: 5mm; height: 5mm; border: 1px solid blue; text-align: center; font-size: 4mm; font-family: Arial, sans-serif;\">0</td>\n",
    "        <td style=\"width: 5mm; height: 5mm; border: 1px solid blue; text-align: center; font-size: 4mm; font-family: Arial, sans-serif;\"></td>\n",
    "    </tr>\n",
    "    <tr>\n",
    "        <td style=\"width: 5mm; height: 5mm; border: 1px solid blue; text-align: center; font-size: 4mm; font-family: Arial, sans-serif;\"></td>\n",
    "        <td style=\"width: 5mm; height: 5mm; border: 1px solid blue; text-align: center; font-size: 4mm; font-family: Arial, sans-serif;\"></td>\n",
    "        <td style=\"width: 5mm; height: 5mm; border: 1px solid blue; text-align: center; font-size: 4mm; font-family: Arial, sans-serif;\"></td>\n",
    "        <td style=\"width: 5mm; height: 5mm; border: 1px solid blue; text-align: center; font-size: 4mm; font-family: Arial, sans-serif;\">0</td>\n",
    "        <td style=\"width: 5mm; height: 5mm; border: 1px solid blue; text-align: center; font-size: 4mm; font-family: Arial, sans-serif;\"></td>\n",
    "        <td style=\"width: 5mm; height: 5mm; border: 1px solid blue; text-align: center; font-size: 4mm; font-family: Arial, sans-serif;\"></td>\n",
    "        <td style=\"width: 5mm; height: 5mm; border: 1px solid blue; text-align: center; font-size: 4mm; font-family: Arial, sans-serif;\"></td>\n",
    "        <td style=\"width: 5mm; height: 5mm; border: 1px solid blue; text-align: center; font-size: 4mm; font-family: Arial, sans-serif;\"></td>\n",
    "        <td style=\"width: 5mm; height: 5mm; border: 1px solid blue; text-align: center; font-size: 4mm; font-family: Arial, sans-serif;\"></td>\n",
    "        <td style=\"width: 5mm; height: 5mm; border: 1px solid blue; text-align: center; font-size: 4mm; font-family: Arial, sans-serif;\"></td>\n",
    "        <td style=\"width: 5mm; height: 5mm; border: 1px solid blue; text-align: center; font-size: 4mm; font-family: Arial, sans-serif;\">0</td>\n",
    "        <td style=\"width: 5mm; height: 5mm; border: 1px solid blue; text-align: center; font-size: 4mm; font-family: Arial, sans-serif;\"></td>\n",
    "    </tr>\n",
    "    <tr>\n",
    "        <td style=\"width: 5mm; height: 5mm; border: 1px solid blue; text-align: center; font-size: 4mm; font-family: Arial, sans-serif;\"></td>\n",
    "        <td style=\"width: 5mm; height: 5mm; border: 1px solid blue; text-align: center; font-size: 4mm; font-family: Arial, sans-serif;\"></td>\n",
    "        <td style=\"width: 5mm; height: 5mm; border: 1px solid blue; text-align: center; font-size: 4mm; font-family: Arial, sans-serif;\"></td>\n",
    "        <td style=\"width: 5mm; height: 5mm; border: 1px solid blue; text-align: center; font-size: 4mm; font-family: Arial, sans-serif;\"></td>\n",
    "        <td style=\"width: 5mm; height: 5mm; border: 1px solid blue; text-align: center; font-size: 4mm; font-family: Arial, sans-serif;\"></td>\n",
    "        <td style=\"width: 5mm; height: 5mm; border: 1px solid blue; text-align: center; font-size: 4mm; font-family: Arial, sans-serif;\"></td>\n",
    "        <td style=\"width: 5mm; height: 5mm; border: 1px solid blue; text-align: center; font-size: 4mm; font-family: Arial, sans-serif;\"></td>\n",
    "        <td style=\"width: 5mm; height: 5mm; border: 1px solid blue; text-align: center; font-size: 4mm; font-family: Arial, sans-serif;\"></td>\n",
    "        <td style=\"width: 5mm; height: 5mm; border: 1px solid blue; text-align: center; font-size: 4mm; font-family: Arial, sans-serif;\"></td>\n",
    "        <td style=\"width: 5mm; height: 5mm; border: 1px solid blue; text-align: center; font-size: 4mm; font-family: Arial, sans-serif;\"></td>\n",
    "        <td style=\"width: 5mm; height: 5mm; border: 1px solid blue; text-align: center; font-size: 4mm; font-family: Arial, sans-serif;\"></td>\n",
    "        <td style=\"width: 5mm; height: 5mm; border: 1px solid blue; text-align: center; font-size: 4mm; font-family: Arial, sans-serif;\">1</td>\n",
    "    </tr>\n",
    "     <tr>\n",
    "        <td style=\"width: 5mm; height: 5mm; border: 1px solid blue; text-align: center; font-size: 4mm; font-family: Arial, sans-serif;\"></td>\n",
    "        <td style=\"width: 5mm; height: 5mm; border: 1px solid blue; text-align: center; font-size: 4mm; font-family: Arial, sans-serif;\"></td>\n",
    "        <td style=\"width: 5mm; height: 5mm; border: 1px solid blue; text-align: center; font-size: 4mm; font-family: Arial, sans-serif;\">0</td>\n",
    "        <td style=\"width: 5mm; height: 5mm; border: 1px solid blue; text-align: center; font-size: 4mm; font-family: Arial, sans-serif;\"></td>\n",
    "        <td style=\"width: 5mm; height: 5mm; border: 1px solid blue; text-align: center; font-size: 4mm; font-family: Arial, sans-serif;\"></td>\n",
    "        <td style=\"width: 5mm; height: 5mm; border: 1px solid blue; text-align: center; font-size: 4mm; font-family: Arial, sans-serif;\">1</td>\n",
    "        <td style=\"width: 5mm; height: 5mm; border: 1px solid blue; text-align: center; font-size: 4mm; font-family: Arial, sans-serif;\"></td>\n",
    "        <td style=\"width: 5mm; height: 5mm; border: 1px solid blue; text-align: center; font-size: 4mm; font-family: Arial, sans-serif;\"></td>\n",
    "        <td style=\"width: 5mm; height: 5mm; border: 1px solid blue; text-align: center; font-size: 4mm; font-family: Arial, sans-serif;\"></td>\n",
    "        <td style=\"width: 5mm; height: 5mm; border: 1px solid blue; text-align: center; font-size: 4mm; font-family: Arial, sans-serif;\"></td>\n",
    "        <td style=\"width: 5mm; height: 5mm; border: 1px solid blue; text-align: center; font-size: 4mm; font-family: Arial, sans-serif;\">0</td>\n",
    "        <td style=\"width: 5mm; height: 5mm; border: 1px solid blue; text-align: center; font-size: 4mm; font-family: Arial, sans-serif;\"></td>\n",
    "    </tr>\n",
    "        <tr>\n",
    "        <td style=\"width: 5mm; height: 5mm; border: 1px solid blue; text-align: center; font-size: 4mm; font-family: Arial, sans-serif;\"></td>\n",
    "        <td style=\"width: 5mm; height: 5mm; border: 1px solid blue; text-align: center; font-size: 4mm; font-family: Arial, sans-serif;\"></td>\n",
    "        <td style=\"width: 5mm; height: 5mm; border: 1px solid blue; text-align: center; font-size: 4mm; font-family: Arial, sans-serif;\"></td>\n",
    "        <td style=\"width: 5mm; height: 5mm; border: 1px solid blue; text-align: center; font-size: 4mm; font-family: Arial, sans-serif;\"></td>\n",
    "        <td style=\"width: 5mm; height: 5mm; border: 1px solid blue; text-align: center; font-size: 4mm; font-family: Arial, sans-serif;\"></td>\n",
    "        <td style=\"width: 5mm; height: 5mm; border: 1px solid blue; text-align: center; font-size: 4mm; font-family: Arial, sans-serif;\">1</td>\n",
    "        <td style=\"width: 5mm; height: 5mm; border: 1px solid blue; text-align: center; font-size: 4mm; font-family: Arial, sans-serif;\"></td>\n",
    "        <td style=\"width: 5mm; height: 5mm; border: 1px solid blue; text-align: center; font-size: 4mm; font-family: Arial, sans-serif;\"></td>\n",
    "        <td style=\"width: 5mm; height: 5mm; border: 1px solid blue; text-align: center; font-size: 4mm; font-family: Arial, sans-serif;\"></td>\n",
    "        <td style=\"width: 5mm; height: 5mm; border: 1px solid blue; text-align: center; font-size: 4mm; font-family: Arial, sans-serif;\"></td>\n",
    "        <td style=\"width: 5mm; height: 5mm; border: 1px solid blue; text-align: center; font-size: 4mm; font-family: Arial, sans-serif;\"></td>\n",
    "        <td style=\"width: 5mm; height: 5mm; border: 1px solid blue; text-align: center; font-size: 4mm; font-family: Arial, sans-serif;\"></td>\n",
    "    </tr>\n",
    "        <tr>\n",
    "        <td style=\"width: 5mm; height: 5mm; border: 1px solid blue; text-align: center; font-size: 4mm; font-family: Arial, sans-serif;\"></td>\n",
    "        <td style=\"width: 5mm; height: 5mm; border: 1px solid blue; text-align: center; font-size: 4mm; font-family: Arial, sans-serif;\"></td>\n",
    "        <td style=\"width: 5mm; height: 5mm; border: 1px solid blue; text-align: center; font-size: 4mm; font-family: Arial, sans-serif;\"></td>\n",
    "        <td style=\"width: 5mm; height: 5mm; border: 1px solid blue; text-align: center; font-size: 4mm; font-family: Arial, sans-serif;\">1</td>\n",
    "        <td style=\"width: 5mm; height: 5mm; border: 1px solid blue; text-align: center; font-size: 4mm; font-family: Arial, sans-serif;\">1</td>\n",
    "        <td style=\"width: 5mm; height: 5mm; border: 1px solid blue; text-align: center; font-size: 4mm; font-family: Arial, sans-serif;\"></td>\n",
    "        <td style=\"width: 5mm; height: 5mm; border: 1px solid blue; text-align: center; font-size: 4mm; font-family: Arial, sans-serif;\"></td>\n",
    "        <td style=\"width: 5mm; height: 5mm; border: 1px solid blue; text-align: center; font-size: 4mm; font-family: Arial, sans-serif;\">1</td>\n",
    "        <td style=\"width: 5mm; height: 5mm; border: 1px solid blue; text-align: center; font-size: 4mm; font-family: Arial, sans-serif;\"></td>\n",
    "        <td style=\"width: 5mm; height: 5mm; border: 1px solid blue; text-align: center; font-size: 4mm; font-family: Arial, sans-serif;\">1</td>\n",
    "        <td style=\"width: 5mm; height: 5mm; border: 1px solid blue; text-align: center; font-size: 4mm; font-family: Arial, sans-serif;\"></td>\n",
    "        <td style=\"width: 5mm; height: 5mm; border: 1px solid blue; text-align: center; font-size: 4mm; font-family: Arial, sans-serif;\"></td>\n",
    "    </tr>\n",
    "</table>\n",
    "\n",
    "\n",
    "Vervollstängigen Sie die obige Tabelle nach den folgenden Regel:\n",
    "* In jedem Kästchen steht entweder eine Null oder eine Eins.\n",
    "* Nebeneinander dürfen niemals mehr als zwei gleiche Ziffern stehen.\n",
    "* Übereinander dürfen niemals mehr als zwei gleiche Ziffern stehen.\n",
    "* Jede Zeile muss dieselbe Anzahl an Nullen und Einsen enthalten.\n",
    "* Jede Spalte muss dieselbe Anzahl an Nullen und Einsen enthalten.\n",
    "* Jede Zeile kommt nur einmal vor.\n",
    "* Jede Spalte kommt nur einmal vor.\n",
    "\n",
    "Vielleicht haben Sie ja auch Lust, ein Programm zu schreiben, das Ihnen die Arbeit abnimmt."
   ]
  },
  {
   "cell_type": "code",
   "execution_count": 7,
   "id": "e3249712",
   "metadata": {},
   "outputs": [],
   "source": [
    "# Schreiben Sie hier Ihren Code"
   ]
  }
 ],
 "metadata": {
  "kernelspec": {
   "display_name": "Python 3 (ipykernel)",
   "language": "python",
   "name": "python3"
  },
  "language_info": {
   "codemirror_mode": {
    "name": "ipython",
    "version": 3
   },
   "file_extension": ".py",
   "mimetype": "text/x-python",
   "name": "python",
   "nbconvert_exporter": "python",
   "pygments_lexer": "ipython3",
   "version": "3.12.7"
  }
 },
 "nbformat": 4,
 "nbformat_minor": 5
}
